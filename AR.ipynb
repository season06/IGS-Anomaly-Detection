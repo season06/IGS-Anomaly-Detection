{
 "cells": [
  {
   "cell_type": "code",
   "execution_count": null,
   "metadata": {},
   "outputs": [],
   "source": [
    "import pandas as pd\n",
    "import numpy as np\n",
    "from datetime import datetime\n",
    "import matplotlib.pyplot as plt"
   ]
  },
  {
   "cell_type": "code",
   "execution_count": null,
   "metadata": {},
   "outputs": [],
   "source": [
    "df1 = pd.read_csv('ErrorLog_Ver3/errorlog0601_0614_edit.csv')  \n",
    "df2 = pd.read_csv('ErrorLog_Ver3/errorlog0615_0630_edit.csv')  \n",
    "df3 = pd.read_csv('ErrorLog_Ver3/errorlog0701_0715_edit.csv')  \n",
    "df4 = pd.read_csv('ErrorLog_Ver3/errorlog0716_0730_edit.csv')  \n",
    "df5 = pd.read_csv('ErrorLog_Ver3/errorlog0731_0814_edit.csv')  \n",
    "df6 = pd.read_csv('ErrorLog_Ver3/errorlog0815_0828_edit.csv')  \n",
    "df7 = pd.read_csv('ErrorLog_Ver3/errorlog0829_0831_edit.csv')  \n",
    "\n",
    "df = pd.concat([df1,df2,df3,df4,df5,df6,df7],axis=0, ignore_index=True)\n",
    "print(df.shape)\n",
    "df.head(5)"
   ]
  },
  {
   "cell_type": "code",
   "execution_count": null,
   "metadata": {},
   "outputs": [],
   "source": [
    "month = [6,7,8]\n",
    "\n",
    "EventTime = df.EventTime\n",
    "\n",
    "date_dict = {}\n",
    "for _time in EventTime:\n",
    "    dt = datetime.fromtimestamp(_time)\n",
    "    \n",
    "    if dt.month not in month:\n",
    "        continue\n",
    "    \n",
    "    t = f\"{dt.month:02d}{dt.day:02d}-{dt.hour:02d}~{(dt.hour+1):02d}\"\n",
    "    \n",
    "    if date_dict.get(t, 0):\n",
    "        date_dict[t] += 1\n",
    "    else:\n",
    "        date_dict[t] = 1\n",
    "\n",
    "error_date = []\n",
    "error_count = []\n",
    "for k in sorted(date_dict.keys()):\n",
    "    error_date.append(k)\n",
    "    error_count.append(date_dict[k])\n",
    "    \n",
    "print(len(error_date))"
   ]
  },
  {
   "cell_type": "code",
   "execution_count": null,
   "metadata": {},
   "outputs": [],
   "source": [
    "%matplotlib inline\n",
    "\n",
    "plt.rcParams['figure.figsize'] = [25, 6]\n",
    "fig = plt.figure()\n",
    "plt.plot(error_date, error_count)\n",
    "plt.xticks(error_date[:][::24], fontsize=12, rotation=60)\n",
    "plt.yticks(fontsize=18)\n",
    "plt.show()"
   ]
  },
  {
   "cell_type": "code",
   "execution_count": null,
   "metadata": {},
   "outputs": [],
   "source": [
    "from statsmodels.tsa.statespace.sarimax import SARIMAX\n",
    "from tqdm import tqdm\n",
    "\n",
    "SPLIT = 1300\n",
    "\n",
    "p_list = [24, 48, 72, 96, 120, 144, 168]\n",
    "train = error_count[0:SPLIT]\n",
    "test = error_count[SPLIT:]\n",
    "\n",
    "for p in p_list:\n",
    "    predict = []\n",
    "    test_mse = []\n",
    "\n",
    "    print(f\"------------p | {p}-----------\")\n",
    "    for t in tqdm(range(len(test))):\n",
    "        model = SARIMAX(train, trend='c', order=(p, 0, 0), enforce_stationarity=False, enforce_invertibility=False)\n",
    "        model_fit = model.fit()\n",
    "        output = model_fit.forecast()\n",
    "        \n",
    "        yhat = output[0]\n",
    "        predict.append(yhat)\n",
    "        obs = test[t]\n",
    "        test_mse.append(abs(yhat - obs))\n",
    "        del train[0]\n",
    "        \n",
    "        if (abs(yhat - obs) < 5000):\n",
    "            train.append(obs)\n",
    "        else:\n",
    "            train.append(yhat)\n",
    "\n",
    "    plt.plot(error_date[SPLIT:], test, label='Ground truth')\n",
    "    plt.plot(error_date[SPLIT:], predict, color='red', label='Prediction')\n",
    "    plt.plot(error_date[SPLIT:], test_mse, color='black', label='Error')\n",
    "    plt.xticks(error_date[SPLIT:][::24], fontsize=12, rotation = 60)\n",
    "    plt.legend(loc='best')\n",
    "    plt.title(f'AR (p)=({p}) | Error={np.asarray(test_mse).mean():.02f}',fontsize=18)\n",
    "    plt.show()\n",
    "#     plt.savefig(f\"./fig/w_drop_anomaly/AR/AR:p_{p}\")\n",
    "#     plt.close()"
   ]
  },
  {
   "cell_type": "code",
   "execution_count": null,
   "metadata": {},
   "outputs": [],
   "source": [
    "# plt.plot(error_date[SPLIT:], test, label='Ground truth')\n",
    "# plt.plot(error_date[SPLIT:], predictions, color='red', label='Prediction')\n",
    "# plt.plot(error_date[SPLIT:], test_mse, color='black', label='Error')\n",
    "# plt.xticks(error_date[SPLIT:][::24], fontsize=12, rotation = 60)\n",
    "# plt.legend(loc='best')\n",
    "# plt.title(f'AR (p)=({p}) | Error={np.asarray(test_mse).mean():.02f}',fontsize=18)\n",
    "# plt.show()"
   ]
  },
  {
   "cell_type": "code",
   "execution_count": null,
   "metadata": {},
   "outputs": [],
   "source": []
  }
 ],
 "metadata": {
  "kernelspec": {
   "display_name": "Python 3",
   "language": "python",
   "name": "python3"
  },
  "language_info": {
   "codemirror_mode": {
    "name": "ipython",
    "version": 3
   },
   "file_extension": ".py",
   "mimetype": "text/x-python",
   "name": "python",
   "nbconvert_exporter": "python",
   "pygments_lexer": "ipython3",
   "version": "3.7.3"
  }
 },
 "nbformat": 4,
 "nbformat_minor": 4
}
